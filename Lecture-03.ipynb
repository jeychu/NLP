{
 "cells": [
  {
   "cell_type": "code",
   "execution_count": 1,
   "metadata": {},
   "outputs": [],
   "source": [
    "f = open('Lecture-01.ipynb')"
   ]
  },
  {
   "cell_type": "code",
   "execution_count": 25,
   "metadata": {},
   "outputs": [
    {
     "name": "stdout",
     "output_type": "stream",
     "text": [
      "Help on built-in function read:\n",
      "\n",
      "read(size=-1, /) method of _io.TextIOWrapper instance\n",
      "    Read at most n characters from stream.\n",
      "    \n",
      "    Read from underlying buffer until we have n characters or we hit EOF.\n",
      "    If n is negative or omitted, read until EOF.\n",
      "\n"
     ]
    }
   ],
   "source": [
    "help(f.read)"
   ]
  },
  {
   "cell_type": "code",
   "execution_count": 26,
   "metadata": {},
   "outputs": [
    {
     "data": {
      "text/plain": [
       "[]"
      ]
     },
     "execution_count": 26,
     "metadata": {},
     "output_type": "execute_result"
    }
   ],
   "source": [
    "f.readlines()"
   ]
  },
  {
   "cell_type": "code",
   "execution_count": 24,
   "metadata": {
    "collapsed": true,
    "jupyter": {
     "outputs_hidden": true
    }
   },
   "outputs": [
    {
     "data": {
      "text/plain": [
       "'{\\n \"cells\": [\\n  {\\n   \"cell_type\": \"markdown\",\\n   \"metadata\": {},\\n   \"source\": [\\n    \"# Map Search\"\\n   ]\\n  },\\n  {\\n   \"cell_type\": \"code\",\\n   \"execution_count\": 3,\\n   \"metadata\": {},\\n   \"outputs\": [],\\n   \"source\": [\\n    \"BEIJING, CHANGCHUN, MULUMUQI, WUHAN, GUANGZHOU, SHENZHEN, BANGKOK, SHANGHAI, NEWYORK = \\\\\"\\\\\"\\\\\"\\\\n\",\\n    \"BEIJING CHANGCHUN MULUMUQI WUHAN GUANGZHOU SHENZHEN BANGKOK SHANGHAI NEWYORK\\\\\"\\\\\"\\\\\".split()\"\\n   ]\\n  },\\n  {\\n   \"cell_type\": \"code\",\\n   \"execution_count\": 4,\\n   \"metadata\": {},\\n   \"outputs\": [],\\n   \"source\": [\\n    \"dictionary = {}\"\\n   ]\\n  },\\n  {\\n   \"cell_type\": \"code\",\\n   \"execution_count\": 5,\\n   \"metadata\": {},\\n   \"outputs\": [],\\n   \"source\": [\\n    \"connection = {\\\\n\",\\n    \"    CHANGCHUN: [BEIJING],\\\\n\",\\n    \"    MULUMUQI: [BEIJING],\\\\n\",\\n    \"    BEIJING: [MULUMUQI, CHANGCHUN, WUHAN, SHENZHEN, NEWYORK],\\\\n\",\\n    \"    NEWYORK: [BEIJING, SHANGHAI],\\\\n\",\\n    \"    SHANGHAI: [NEWYORK, WUHAN],\\\\n\",\\n    \"    WUHAN: [SHANGHAI, BEIJING, GUANGZHOU],\\\\n\",\\n    \"    GUANGZHOU: [WUHAN, BANGKOK],\\\\n\",\\n    \"    SHENZHEN: [WUHAN, BANGKOK],\\\\n\",\\n    \"    BANGKOK: [SHENZHEN, GUANGZHOU] \\\\n\",\\n    \"}\"\\n   ]\\n  },\\n  {\\n   \"cell_type\": \"code\",\\n   \"execution_count\": 6,\\n   \"metadata\": {},\\n   \"outputs\": [],\\n   \"source\": [\\n    \"import networkx as nx\"\\n   ]\\n  },\\n  {\\n   \"cell_type\": \"code\",\\n   \"execution_count\": 7,\\n   \"metadata\": {},\\n   \"outputs\": [],\\n   \"source\": [\\n    \"%matplotlib inline\"\\n   ]\\n  },\\n  {\\n   \"cell_type\": \"code\",\\n   \"execution_count\": 8,\\n   \"metadata\": {},\\n   \"outputs\": [],\\n   \"source\": [\\n    \"graph = connection\"\\n   ]\\n  },\\n  {\\n   \"cell_type\": \"code\",\\n   \"execution_count\": 14,\\n   \"metadata\": {},\\n   \"outputs\": [],\\n   \"source\": [\\n    \"g = nx.Graph(graph)\"\\n   ]\\n  },\\n  {\\n   \"cell_type\": \"code\",\\n   \"execution_count\": 13,\\n   \"metadata\": {},\\n   \"outputs\": [\\n    {\\n     \"data\": {\\n      \"image/png\": \"iVBORw0KGgoAAAANSUhEUgAAAb4AAAEuCAYAAADx63eqAAAABHNCSVQICAgIfAhkiAAAAAlwSFlzAAALEgAACxIB0t1+/AAAADh0RVh0U29mdHdhcmUAbWF0cGxvdGxpYiB2ZXJzaW9uMy4xLjAsIGh0dHA6Ly9tYXRwbG90bGliLm9yZy+17YcXAAAgAElEQVR4nO3deViVdcI+8PvAAQ4KaAomKkKBgIoibrgkoLnikpXVOOPk1JS+rzYtb02N0aQ2OI3vjFmZW+ZMljmRuCsuOApqLiQqbiweDIUERQwB4QDnnOf3hy/8PIELZ/ue5zz357q8ZhrjObdzKbff57upJEmSQEREpBAuogMQERHZE4uPiIgUhcVHRESKwuIjIiJFYfEREZGisPiIiEhRWHxERKQoLD4iIlIUFh8RESkKi4+IiBSFxUdERIrC4iMiIkVh8RERkaKw+IiISFHUogOQsl2vqkVyZhFySipQodPDR6NGeEcfPNOvC9p7eYiOR0ROSMX7+EiErMJyLE3TIj2vFABQqzc2/pxG7QIJQFyYH2bFhiAyoK2glETkjFh8ZHdrjxZgQUoOdHoD7vW7T6UCNGpXJMSHY9qgILvlIyLnxledZFe3Sy8bNfXG+/67kgTU1BuwICUbAFh+RGQVXNxCdpNVWI4FKTkPVHp3qqk3YkFKDk4XldsoGREpCYuP7GZpmhY6vcGsr9XpDViWprVyIiJSIhYf2cX1qlqk55Xec07vXiQJ2J9birKqWusGIyLFYfGRXSRnFln8DBWA5BOWP4eIlI3FR3aRU1JhsmXBHDq9ETnFlVZKRERKxeIju6jQ6a3ynJs1dVZ5DhEpF7czkF34aKzzW23H5mT0WvR7hIaGNvnh6+sLlUpllc8hIufFDexkFyvS87F4b55Frzs1ahfMjg1CjF8d8vLykJeXh9zc3Mb/BNBsIXbr1g1eXl7W+qUQkcyx+MgurlfVYujCfRYVn4faBYffGdHsGZ6SJKGsrKyxEO/8odVq8dBDDzVbio888gjc3d0t+aURkcyw+MhuZnx9HKnZV83a0qBSAWN6PIwV0/q3+GuNRiOKioqaLcWioiIEBAQ0W4qdO3eGiwunwYmcDYuP7CarsBy/WnUUNfUt38Tu6eaKpBmD0LuLdQ+srqurw8WLF5stxZs3byIkJKTZUmzfvr1VcxCR/bD4yK5aclZnA083FyTEd7f7WZ2VlZW4cOFCk0LMzc2FWq2+63xiq1at7JqTiFqGxUd2J/fbGSRJQmlpabOjxPz8fPj6+iIsLKxJKQYFBUGt5kJqItFYfCTE6aJyLEvTYn9uKVS4vTm9QcN9fMPD/DArLsTqrzdtyWAwoLCwsNlSvHLlCoKCgpodKfr7+3MrBpGdsPhIqLKqWiSfKMK8xZ9j1IQn0N6rFcL9vTGlr/PdwK7T6e46n1hVVdVsIYaGhqJtW/kUP5EcsPjIIbi5uaG6uhpubm6iowhx8+bNZucT8/LyoNFomi3E4OBgeHp6io5uFderapGcWYSckgpU6PTw0agR3tEHz/Rzvr8AkXgsPhKuvr4erVq1Qn19vegoDkeSJFy9erXJ4pq8vDz8+OOP6NixY7OlGBgYCFdXV9Hx7yursBxL07RIzysFAJN9ng2vvOPC/DArNgSRARz5knWw+Ei4mzdvomvXrrh586boKLKi1+tx6dKlZkeJV69exaOPPtpsKT788MMOMZ8o90VOJF8sPhKuuLgYffv2RXFxsegoTqOmpgZarbbZUqytrb3rVow2bdrYJZ+ctrWQ82HxkXD5+fkYPXo08vPzRUdRhBs3bjQ7n3jhwgV4eXnddT7Rw8M6c22OeJABKQs3FZFw1dXVTrNIQw7atWuH6OhoREdHm/zvkiThypUrJmV48OBB5OXl4dKlS+jUqVOzpRgQENCi+cSlaVro9C0vPQDQ6Q1YlqY16+g6ogYsPhKuurqap504AJVKhc6dO6Nz584YPny4yc/V19ejoKCgsRDPnTuHTZs2IS8vD9evX0dwcHCzpejn52cyn3i9qhbpeaVmndcKAJIE7M8tRVlVLVd7ktlYfCQci8/xubm5oVu3bujWrRvGjx9v8nO3bt0ymU9MT0/HqlWrkJubC6PRaFKExW17QjJqLMqiApB8oggzY4Iteg4pF4uPhGPxyVvr1q0RGRmJyMjIJj/3y6uiMnJ/Qp2PZYWl0xuRU1xp0TNI2Vh8JFxNTQ2Lz0m1b98egwcPxuDBgwEAxWt+wL6caxY/t0LHPZ9kPl42RsJxxKccPhrr/F3bR6PME37IOlh8JByLTznCO/rAQ23Ztx2N2gXh/t5WSkRKxOIj4Vh8yjGlXxeLnyEBmNLX8ueQcrH4SDgWn3L4enkgNtQP5p6YplLdvq6KWxnIEiw+Eo4b2JVldlwINGrzDtDWqF0xKy7EyolIaVh8JBxHfMoSGdAWCfHh8HRr2bef22d1hvO4MrIYtzOQcCw+5Wk4aJq3M5AILD4SjsWnTNMGBaF3l7ZYlqbF/txSGPR66O94CdVwH9/wMD/MigvhSI+shsVHwrH4lKt3l7ZYMa0/yqpq8euET+Daviv8A4Pho3FDuL83pvTlDexkfSw+Eo4nt1B7Lw/cytyKxMRExMUNEB2HnBwXt5BwHPGRJEk4e/YsIiIiREchBWDxkXAsPioqKoKnpyd8fX1FRyEFYPGRcCw+4miP7InFR8JxAzux+MieWHwkHEd8dObMGfTq1Ut0DFIIFh8Jx+IjjvjInlSSdK8zE4hsS5IkqNVq6HQ6uLnxjjUlMhgM8Pb2xrVr1+Dl5SU6DikAR3wkVF1dHVxdXVl6CqbVauHv78/SI7th8ZFQ3LxOfM1J9sbiI6E4v0csPrI3Fh8JxeIjrugke2PxkVAsPuKIj+yNxUdCcfO6sul0Oly6dAmhoaGio5CCsPhIKI74lC07OxshISFwd3cXHYUUhMVHQrH4lI2vOUkEFh8JxeJTNhYficDiI6FYfMrGFZ0kAouPhOIGdmXjiI9EYPGRUBzxKdfNmzdx48YNBAUFiY5CCsPiI6FYfMp19uxZ9OzZEy4u/DZE9sXfcSQUi0+5+JqTRGHxkVAsPuVi8ZEoLD4Siie3KBdXdJIoLD4SiiM+ZZIkiSM+EobFR0Kx+JTp6tWrAICHH35YcBJSIhYfCcXiU6aG15wqlUp0FFIgFh8JxQ3sysTXnCQSi4+E4ohPmVh8JBKLj4Ri8SkTV3SSSCw+EorFpzxGoxHnz59Hz549RUchhWLxkVAsPuUpKChAu3bt0KZNG9FRSKFYfCQUN7ArD19zkmgsPhJGkiQWnwJxYQuJxuIjYWpra+Hm5ga1Wi06CtkRi49EY/GRMJzfUya+6iTRWHwkDDevK09dXR3y8/MRHh4uOgopGIuPhOGIT3ny8vIQGBgIjUYjOgopGIuPhGHxKQ9fc5IjYPGRMCw+5eHCFnIELD4ShsWnPCw+cgQsPhKGe/iUh686yRGw+EgYjviUpaqqCiUlJQgODhYdhRSOxUfCsPiU5fz58wgPD4erq6voKKRwLD4ShsWnLHzNSY6CxUfCcAO7snBhCzkKFh/Z3fWqWqxIz0dKeQccde+D15NOYkV6PsqqakVHIxti8ZGjUEmSJIkOQcqQVViOpWlapOeVAgBq9cbGn9OoXSABiAvzw6zYEEQGtBWUkmylY8eOOH78OLp06SI6Cikci4/sYu3RAixIyYFOb8C9fsepVIBG7YqE+HBMGxRkt3xkW6WlpejWrRt+/vlnqFQq0XFI4XgfDNnc7dLLRk298b7/riQBNfUGLEjJBgCWn5M4d+4cIiIiWHrkEDjHRzaVVViOBSk5D1R6d6qpN2JBSg5OF5XbKBnZE1d0kiNh8ZFNLU3TQqc3mPW1Or0By9K0Vk5EInBhCzkSFh/ZzPWqWqTnld5zTu9eJAnYn1vK1Z5OgMVHjoTFRzaTnFlk8TNUAJJPWP4cEkeSJBYfORQWH9lMTkmFyZYFc+j0RuQUV1opEYlQWFiI1q1bo3379qKjEAFg8ZENVej0VnpOvVWeQ2JwtEeOhsVHNuOjsc5uGXdYp0BJDK7oJEfD4iObCe/oAw+1Zb/FVMZ6bPzXZwgKCsKzzz6LRYsW4eDBg6iurrZSSrI1jvjI0bD4yGam9LP8aCp3dw+c27Yae/bswaRJk1BQUIC33noLfn5+6NOnD2bOnInVq1fj7NmzMBjM2zZBtsXiI0fDI8vIpmZ8fRyp2VfN2tKgUgFjejyMFdP6N/m52tpaZGVl4dixY8jIyMCxY8dQUlKCfv36YeDAgYiOjsbAgQN5LqRger0ePj4+KC0tRevWrUXHIQLA4iMbyyosx69WHUVNfctHY55urkiaMQi9uzzYgdU3btzADz/80FiEGRkZcHNzMynC/v37w8fHp8VZyDw5OTmYMGECtFoeRECOg8VHNteSszobeLq5ICG+u0VndUqShIKCAmRkZDSW4alTpxAYGNhYhNHR0YiIiICbm5vZn0N3l5ycjLVr12Lz5s2ioxA1YvGRXTjK7Qz19fU4e/ZsYxEeO3YMly5dQp8+fUxGhkFBQTxQ2Qrmzp0Lo9GIv/zlL6KjEDVi8ZHdnC4qx7I0LfbnlkKF25vTG2jULtDV1qJvRw/Me3bwA7/etIaKigpkZmaazBfW19ebFOHAgQPx0EMP2S2Ts3j66afx7LPP4rnnnhMdhagRi4/srqyqFsknipBTXIkKXT18NG4I9/eGlH8E//5yFdLT00VHxE8//WRShJmZmejYsaPJK9LIyEh4eHiIjurQwsLCsHHjRvTs2VN0FKJGLD5yGHq9Ht27d8cXX3yB2NhY0XFMGAwGZGdnmyycycvLQ0REhMnIMCQkBC4u3CUEADU1NWjXrh0qKio4h0oOhcVHDuXLL7/EV199hX379omOcl+3bt3CyZMnTUaGFRUVGDBggMkr0g4dOoiOKsSJEyfwu9/9DqdPnxYdhcgEi48cSn19PcLDw/Hll19i2LBhouO02NWrV01Wkf7www9o27atySvSqKgotGrVSnRUm/vqq6+wa9curFu3TnQUIhMsPnI4q1evxrfffovU1FTRUSxmNBpx4cIFk1ek586dQ2hoqEkZhoeHw9XVVXRcq/rjH/+Idu3aYc6cOaKjEJlg8ZHDqaurQ2hoKNatW4chQ4aIjmN1Op2uyakzV69eRf/+/U3mCzt37iw6qkXGjRuHWbNmYeLEiaKjEJlg8ZFD+vzzz7Fx40bs2rVLdBS7KCsra3LqjIeHR5NTZ7y9vUVHfWABAQE4cOAAHnnkEdFRiEyw+Mgh1dXVISQkBOvXr0d0dLToOHYnSRJ+/PFHkyI8deoUHnnkkSanzqjV1rn+yVLXq2qRnFmEnJIKlFXWIDVlK+a++hKe7R+A9l7c9kGOg8VHDmv58uXYsWMHtm/fLjqKQ6ivr8eZM2dMXpFevnwZUVFRJiPDwMBAu546k1VYjqVpWqTnlQIAan9xMIEEIC7MD7NiQxAZYL+DCYjuhsVHDqu2thYhISHYtGkT+vdvekMDATdv3sTx48dNjmAzGo0mRThgwACbnTrjKEfREbUEi48c2meffYbU1FRs2bJFdBRZkCQJRUVFJq9IMzMz0alTJ5NXpL1797b41BlRh48TWYrFRw5Np9MhODgY27dvR1RUlOg4smQwGHD+/PnGIszIyMCFCxfQq1evJqfOPOgrUnteN0VkbSw+cngff/wxDhw4gI0bN4qO4jRu3bqFEydOmMwXVlVVNTl1xs/Pr9mvt9UFw0T2wOIjh1ddXY3g4GDs3r0bvXv3Fh3HaZWUlDQ5daZdu3ZNTp25ZXDB0IX7TBaxtJSH2gWH3xnB1Z4kBIuPZGHRokU4evQo1q9fLzqKYhiNRuTl5ZnMF54/fx5dx/wetaGPw6gyfxuFRu2CN0aFYmZMsBUTEz0YFh/Jwq1btxAcHIy9e/ciIiJCdBzF0ul0eGn1QRwqqrP4WU/26YzFz/WxQiqiluH9KSQLrVu3xv/8z/8gMTFRdBRF02g0cPeyzqKUCl29VZ5D1FIsPpKNWbNmYf/+/cjOzhYdRdF8NNY5KcZHwzv6SAwWH8mGl5cXXn/9dY76BAvv6AMPtWXfOjRqF4T7y+fcUXIuLD6SlVdeeQWpqanIzc0VHUWxpvTrYvEzJABT+lr+HCJzsPhIVry9vfHqq69iwYIFoqMolq+XB2JD/WDucaAqFTA8zI9bGUgYFh/Jzh/+8Afs3LkTWq1WdBTFmh0XAjczv3to1K6YFRdi3UBELcDiI9lp06YNXnnlFfz1r38VHUWxrudlojJ9Ddxb+B3k9lmd4TyujITiPj6SpZ9//hndunVDRkYGHn30UdFxFGXLli14+eWXkZycjMvuXXk7A8kOi49k6/3330dxcTFWrVolOopifPPNN3jzzTexffv2xquiTheVY1maFvtzS6ECoLvjKDM1jDAYjRjTqzNmxYVwpEcOgcVHsnXjxg1069YNmZmZCAoKEh3H6a1YsQKJiYnYvXs3evbs2eTny6pqkXyiCDnFlajQ1cNH44bAtmp88Lt45GQdR4cOHQSkJmqKxUeylpCQgLKyMqxYsUJ0FKe2cOFCrFy5Env37m3xq+UXX3wRYWFheOedd2yUjqhlWHwka9evX0dYWBhOnjyJrl27io7jdCRJQkJCAjZv3ozU1FR07ty5xc/IyMjA1KlTceHCBbi4cD0dicffhSRrvr6+eOmll7Bw4ULRUZyO0WjEH/7wB+zevRvp6elmlR4ADBgwAD4+PvjPf/5j5YRE5uGIj2Tv2rVrCA8Px5kzZ8z+5kym9Ho9XnzxRfz444/Yvn072rRpY9HzVqxYgdTUVGzYsMFKCYnMx+Ijp/DWW2+hrq4On376qegosldbW4upU6eipqYGGzZsQKtWrSx+ZkVFBQIDA3H+/Hn4+/tbISWR+Vh85BSuXr2K7t2749y5c/zGaoFbt27hySefhI+PD9atWwd3d3erPXvmzJno2rUrEhISrPZMInOw+MhpvPHGGwCAxYsXC04iT+Xl5Rg/fjxCQ0OxatUqqNXWuX6owYkTJ/Dkk0/i4sWLcHV1teqziVqCi1vIabz99ttYs2YNSkpKREeRnWvXrmH48OHo378/Vq9ebfXSA4C+ffuiQ4cO2L17t9WfTdQSLD5yGv7+/pg2bRr+8Y9/iI4iK0VFRYiJicHEiRPx8ccf23TLwX/9139h5cqVNns+0YPgq05yKkVFRejduzdycnJ4UsgD0Gq1GDVqFGbPno233nrL5p9369YtdO3aFVlZWejShffxkRgc8ZFT6dKlC6ZOnYqPPvpIdBSHd/bsWcTFxWHOnDl2KT0AaN26NX71q1/hiy++sMvnETWHIz5yOpcvX0ZUVBRyc3Ph6+srOo5DysjIwKRJk7B48WJMnTrVrp99+vRpxMfHo6CgwCZziUT3wxEfOZ2uXbvimWee4erOu0hLS8P48eOxatUqu5ceAPTu3Rtdu3ZFSkqK3T+bCOCIj5xUQUEB+vXrhwsXLqBdu3ai4ziMHTt24IUXXkBSUhKGDx8uLMeaNWuQlJTE8iMhWHzktF5++WX4+/vjgw8+EB3FISQlJeHVV1/F1q1bER0dLTRLTU0NAgICcPz4cV4pRXbH4iOndfHiRQwcOBBarRZt2yr7AtRVq1Zh3rx52LlzJ3r37i06DgDg9ddfh5eXFxITE0VHIYVh8ZFTe+GFFxAUFIS5c+eKjiLMRx99hE8//RSpqano1q2b6DiNsrOzMWLECFy+fBlubm6i45CCsPjIqWm1WgwePBhardbiGwbkRpIkzJs3D0lJSUhNTUVAQIDoSE3ExMTgtddew9NPPy06CikIV3WSUwsJCcG4ceOwZMkS0VHsymg04o033sCWLVtw4MABhyw9gCe5kBgc8ZHTy83NxWOPPYaLFy/C29tbdBybMxgMmDFjBrKzs7Fjxw489NBDoiPdVW1tLQICAnDkyBEEBweLjkMKwREfOb2wsDCMHj0an332megoNldXV4epU6fi8uXL2LNnj0OXHgB4eHjg+eefx+effy46CikIR3ykCNnZ2YiLi0N+fj68vLxEx7GJ6upqTJkyBe7u7vj222+h0WhER3ogeXl5GDZsGAoLC616/x/R3XDER4rQvXt3DB8+HMuXLxcdxSYqKiowduxYtG/fHuvXr5dN6QFAaGgoIiIisGnTJtFRSCE44iPFOHv2LEaOHIn8/Hy0bt1adByruX79OsaOHYuBAwfis88+s+m1Qrby3XffYfny5di/f7/oKKQA8vsTQmSmiIgIDBs2zKlWEV65cgWxsbEYNWoUli5dKsvSA4DJkycjOzsbubm5oqOQAnDER4py+vRpjBkzBvn5+WjVqpXoOBa5ePEiRo0ahZdffhl/+tOfRMex2Jw5c1BXV4dFixaJjkJOjsVHivPUU08hNjYWr732mugoZjt//jzGjBmDOXPmYNasWaLjWMXFixcRHR2NwsJCWc1Rkvyw+EhxTp48iQkTJiA/P1+W32AzMzMxYcIE/P3vf8e0adNEx7GqMWPG4Le//a3T/brIschzQoDIAlFRUejfv78sbwE/ePAgxo0bh+XLlztlOfAkF7IHjvhIkTIzMzF58mRotVp4eHiIjvNAdu3ahd/+9rdYt24dRo0aJTqOTdTX1yMwMBCpqano2bOn6DjkpDjiI0Xq168fIiMj8c9//lN0lAeyYcMGTJ8+HVu2bHHa0gMANzc3/P73v+eoj2yKIz5SrGPHjuGZZ56BVqt16BNDvvzyS8yZMwc7d+5Enz59RMexucuXLyMqKgqFhYWyX3lLjokjPlKs6Oho9OjRA19++aXoKHf16aef4v3338f+/fsVUXoA0LVrVwwePBjfffed6CjkpDjiI0U7cuQIpk6digsXLjjUZaiSJGHBggVYs2YN9u7di8DAQNGR7Grbtm1YsGABjh49KjoKOSGO+EjRBg8ejG7duuGrr74SHaWRJEl4++23kZSUhIMHDyqu9AAgPj4eV65cQVZWlugo5IQ44iPFO3ToEJ5//nnk5uYKH/UZDAbMmjULp06dws6dO9GuXTuheUT64IMPUFJSgmXLlomOQk6GxUcEYMSIEZg+fTqmT58uLEN9fT2ef/55lJSUYOvWrYq4NPdefvrpJ/Tq1QuXL1922qukSAy+6iQCMHfuXCQmJkKv1wv5/JqaGjz11FOoqqpCSkqK4ksPADp37ozY2Fj8+9//Fh2FnAyLjwhAbGwsOnXqhG+//dbun11ZWYnx48fDy8sLGzduhKenp90zOKqZM2dyTx9ZHYuP6P+8//77SExMhMFgsNtn3rhxAyNHjkRISAjWrl0rfI7R0YwePRplZWU4fvy46CjkRFh8RP9nxIgR8PX1tdv+sZKSEsTFxSEmJgYrV66Eq6urXT5XTlxcXPDyyy9z1EdWxcUtRHfYs2cPXn/9dZw5c8amRXTp0iWMHDkS06dPR0JCAlQqlc0+S+5KSkrQvXt3XLp0CT4+PqLjkBPgiI/oDqNGjUKbNm2wYcMGm31Gbm4uhg0bhldeeQXvvfceS+8+OnbsiJEjR+Kbb74RHYWcBIuP6A4qlQrvv/8+/vKXv8BoNFr9+adOnUJcXBzmz58v64tw7W3mzJlYsWIF+IKKrIHFR/QLY8eOhaenJzZt2mTV5x4+fBhjxozBkiVL8MILL1j12c5uxIgRqK6uxrFjx0RHISfA4iP6hYZR3wcffGC1Ud/evXvxxBNPYM2aNZgyZYpVnqkkLi4umDFjBhe5kFWw+IiaMX78eKjVamzdutXiZ23evBm//vWvsXHjRowdO9YK6ZTpd7/7HTZt2oSff/5ZdBSSORYfUTPuHPVZMq+0du1a/Pd//zd27tyJYcOGWTGh8vj5+SE+Ph5ff/216Cgkcyw+oruYNGkSjEYjtm/fbtbXL1u2DHPmzMF//vMf9OvXz8rplKnhJBcuciFLsPiI7sKSUd/f/vY3LFq0COnp6ejRo4eNEipPTEwMjEYjDh06JDoKyRg3sBPdg9FoRGRkJP73f/8XA4aNQHJmEXJKKlCh08NHo0Z4Rx88068L2nt5ALh9l967776LrVu3Ys+ePejcubPgX4HzWbx4MTIzM7F27VrRUUimWHxE9/HRlxuw8lAB4H975Far//8rPTVqF0gA4sL88F8xj+KLhX/GsWPHsGvXLvj6+ooJ7ORu3LiBRx99FFqtlv8fk1lYfET3sPZoARJTsqGr1QMud58ZUKkAlUGPNhf/g7Qv/oI2bdrYMaXyPP/884iMjMSbb74pOgrJEOf4iO5i7dECLEjJhq7eeM/SAwBJAowuatR0H4dt2Vxub2szZ87E559/zkUuZBYWH1EzsgrLsSAlBzX1LdvArqs3YkFKDk4XldsoGQHAkCFD4O7ujrS0NNFRSIZYfETNWJqmhU5v3r18Or0By9K0Vk5Ed1KpVLyklszG4iP6hetVtUjPK4W5b9EkCdifW4qyqlrrBiMT06ZNw65du3Dt2jXRUUhmWHxEv5CcWWTxM1QAkk9Y/hy6u7Zt2+Lpp5/Gv/71L9FRSGZYfES/kFNSYbJlwRw6vRE5xZVWSkR307DIxRZXSJHzUosOQORoym9Z5xVl+pEMzM/ZgpCQEAQHByM4OBi+vr68eNaKBgwYAB8fH+zduxejR48WHYdkgvv4SPEqKytx+PBhHDhwAOnp6dD6DYUmPMbi5/b2rkHv6lPIz8+HVqtFfn4+DAZDYwneWYjBwcHo0qULXO6zbYKaWrlyJfbs2YMNGzaIjkIyweIjxblx4wYOHjyIAwcO4MCBA8jOzka/fv0QExOD2NhYnJc6YemBSxa97tSoXfDGqFDMjAlu8tn5+fkmPxpK8caNGwgKCmpSiiEhIQgKCoK7u7ulv3SnVFlZicDAQJw9exadOnUSHYdkgMVHTq+kpKSx5A4cOICCggIMHjwYMTExiImJwYABA6DRaBr//etVtRi6cJ9FxeehdsHhd0Y0nuH5IKqrq3Hx4sUmhZifn4/CwkL4+/s3W4rBwcHw8vIyO6szmDlzJgICAvDee++JjkIywOIjp3Pp0iWToistLcVjjz3WWHRRUVFwc3O75zNmfH0cqdlXzdrSoK20UhkAABC8SURBVFIBY3o8jBXT+pv5K2iqvr4ely9fblKIDT+8vb2bLUSlzCueOHECTz75JC5evAhXV1fRccjBsfhI1iRJwoULF5Cent5YdDqdrrHkYmNjERER0eK5s6zCcvxq1VHU1Ld8E7unmyuSZgxC7y5tW/y15pAkCcXFxU1KseG/6/X6u5aiM80rDhw4EPPmzUN8fLzoKOTgWHwkK0ajEWfPnjUZ0bm7uyM2Nrax7EJDQ60ywmk4q7Mlx5Z5urkgIb47pg0KsvjzrUUp84qrV6/Gli1bsHXrVtFRyMGx+Mih6fV6nDx5srHkDh48CF9f38aSi4mJQVBQkM0+/3b55UCnN9zztacKgMbNFQnx4Q5VevfjTPOKt27dQkBAANKOZOJwifGe9yaSsrH4yKHU1tbihx9+aHx1eeTIEQQGBpoUnb+/v10znS4qx7I0LfbnlkKF25vTG2jULtAbDHC7nodv//wCIgMesms2W3qQecW7laKIecWswnLM/GQDSt06QK1W3/XexFmxIYgMsM9raHJMLD4S6tatWzhy5EjjiO748eMIDw9vfHX52GOPoX379qJjAgDKqmqRfKIIOcWVqNDVw0fjhnB/b0yO9MewAX2wYsUKjBgxQnRMu3C0ecXGkXm9Aff6hqZSARq1/EbmZF0sPrKr8vJyfP/9941Fd+bMGfTp06dxNDdkyBD4+PiIjtliX3/9NVatWoX09HSnX0H5IB50XvGXpfjII4+0eF7RWeZiyX5YfGRTpaWljZvF09PTodVqMXDgwMaii46ORqtWrUTHtJher0ePHj0UNeozlznzig0/vL29TZ4lp9W35DhYfGRVRUVFJisuf/rpJwwdOrTx1WW/fv1ktVKwJdauXYuVK1fiwIEDHPWZqaXzikfdeiOn0v2erzfvxhb7LUkeWHxkNkmScPHiRZOiu3nzpslClMjISMVsKNbr9ejZsyeWLVuGxx9/XHQcp/PLecVz2kvYoO8LycX831/mnLBD8sfiowcmSRKys7NNis5oNJrsoevevbvTbIg2xzfffIPly5fj4MGDHPXZ2Ir0fCzem2fR0XLuriq8NiIYs0eEWTEZOToWH92VwWDA6dOnG7cWHDx4EN7e3o0nosTExODRRx/lN/g7GAwG9OjRA0uXLsXIkSNFx3FqryedxOZTVyx+TvX5NLTKWn/XWzN+Oa9I8sfio0Z1dXXIzMxsHM19//338Pf3byy5YcOGISAgQHRMh8dRn328uOYH7Mu5ZvFzhof64b2Y9i3ar9jwz0o4B9UZsfgUrKamBseOHWssumPHjiEkJKTxteWwYcPQoUMH0TFlx2AwoGfPnliyZAlGjRolOo7TstaI78k+nbH4uT7N/tyD7Fe82yZ+ZzoH1dmw+BSksrLSZA/dyZMn0atXr8ZXl0OHDkXbtlzabQ3r1q3D0qVLcejQIY4IbMQac3x3uzfxQbVkv+KdpRgUFAQPDy6oEYXF58TKyspw6NAhkwtX+/fv3ziiGzRokMOdt+gsDAYDIiIi8Mknn2D06NGi4zglUfcmPqgH3a+olHnF61W1SM4scogzVFl8TqS4uNjkZvH7XbhKtvXvf/8bS5Yswffff89Rn4042r2JD+pB9ys29xpVbvOKWYXlWJqmRXpeKQA4xBmqLD4Za7hwtWHV5fXr11t84SrZjsFgQK9evfDxxx9z1GcjJwrK8MyKQzCo1C3+Wkc9ucWcecWGf3a0ecUHvt3Ezmeosvhk4m4Xrt65h86cC1fJtr799lt88sknOHz4sKz+li4HVVVVmDp1Kkq8uqEyZJTJrRn3I+ezOu81r1hWVoagoKBmF9vYe17Rkc9QZfE5KHteuEq20zDqW7x4McaMGSM6jtMoLi7GhAkT0KfP7VsxkjJ/csiRhb05yryio5+hyuJzEHdeuJqeno5Dhw6ZXLgaGxuLwMBA0THJDBz1WdeZM2cwYcIEzJgxA++++27j/6f3uzdRAjA8zA+z4kIc7vWmPdhzXtHR515ZfILU1tYiIyOjcTTXcOHqnZvF7X3hKtmGwWBA7969sWjRIowdO1Z0HFlLTU3Fb37zG3zyySeYOnVqs//O3e5NnNKXN7DfzYPOKzZXip07dzY5j9fRV9sCLD67ae7C1e7duzeO6BzpwlWyvqSkJCxevBhHjhzhqM9Mq1evRkJCAtavX49hw4aJjqMoLZlXvPFwXxyt8kW9Bc1i6f7K+2Hx2cidF66mp6fjzJkziIqKkv2Fq2Qeo9GIXr164R//+AfGjRsnOo6sGI1G/PnPf0ZSUhJ27NiBsDAeKO1IfjmvmPxTa1xx72Lxc+91oo6lWHxW0nDhasOqy4YLVxteXUZHR8PT01N0TBLou+++w6JFi3D06FGO+h6QTqfDCy+8gIKCAmzduhV+fn6iI9F9WOsM1cfDO2D19AFWSNRUyze/EICmF65euXIFQ4cORUxMDJYtW+bUF66SeaZMmYIPPvgAu3bt4qjvAZSVlWHy5Mno2LEj9u3bx784yoSPxjq14qOx3R5kFt8D+OWFq+np6aioqGh8bTljxgxFXbhK5nFxccHcuXMxd+5cjB07lqO+e9BqtRg/fjwmT56MDz/8kPtTZSS8ow881CUWn6Ea7m+7Y9v4qrMZDReu3rlZXJKkxteWsbGxCA8P5x9GajGj0YjIyEgsXLgQ8fHxouM4pMOHD+Ppp5/GvHnzMHPmTNFxqIW4qlMmDAYDsrKyGkuu4cLVOzeL88JVspbk5GQsXLgQGRkZ/D31C+vXr8fs2bOxZs0avg6WMe7juwuRJ3U3d+Fqp06dTO6h44WrZCsNo76//e1vGD9+vOg4DkGSJPz973/HkiVLsH37dkRGRoqORBbgyS2/IOKk7jsvXE1PT0dGRkbjhauxsbF47LHHeOEq2RVHff+fXq/H7NmzcfToUezYsQNduli+FJ7E41md/8deJ3VXVFTg8OHDjSO6U6dONV64GhMTwwtXSTij0Yg+ffrgr3/9KyZMmCA6jjCVlZV49tlnAdze5M+9rc5F8bcz2LL9eeEqydGGDRvw4Ycf4ocfflDkqK+oqAgTJkzAoEGD8Nlnn0Gt5iJzZ+SIZ6japfis/b634cLVhlWXly5dMrlwdeDAgXa9foPIHEajEVFRUUhMTMTEiRNFx7GrU6dOYeLEiXj11Vfx1ltvKbL4lcaRzlC1S/FZusLnsSAfjNL82Diiu379OoYNG2Zy4Sr/tkhytHHjRixYsADHjx9XzDf/nTt3Yvr06Vi6dCmeeeYZ0XFIgWxefNbY0yHp69C3cCMefyyaF66SU1HaqG/FihWYP38+NmzYgCFDhoiOQwpl8+JbkZ6PxXvzLN7Fb8uTuolE2rRpExITE5161Gc0GvGnP/0JW7ZsQUpKCoKD+WeZxLH5sCmnpMKi0gNuT4bmFFdaKRGRY3niiSdgMBiwbds20VFsoqamBs899xyOHDmCw4cPs/RIOJsXX4VOb6Xn1FvlOUSOpuEMz3nz5sHZDlIqLS3F448/Djc3N6SmpvLOSXIINi8+OZzUTSTa5MmTIUkStm7dKjqK1eTm5mLw4MEYMWIE1q5dC41GIzoSEQA7FN/tk7ot+xhbn9RNJJpKpXKqUd+BAwcQExODd999F4mJiVyMRg7F5r8bp/Sz/PghCcCUvjzGiJzbE088AQDYsmWL4CSWWbduHaZMmYJvvvkGL774oug4RE3YvPh8vTwQG+oHcxerqVS3d/Xbe4Mjkb2pVCrMmzcP8+fPl+WoT5IkJCYmYs6cOdi3bx9GjhwpOhJRs+zy/mF2XAg0avMuadWoXTErLsTKiYgc06RJk6BSqWQ36quvr8dLL72ETZs24ciRI4iIiBAdieiu7FJ8kQFtkRAfDk+3ln3c7bM6w+12fhuRaA2jvnnz5sFotGwbkL3cvHkT8fHxuHbtGtLT09GpUyfRkYjuyW4zztMGBSEhvjs83Vzv+9pTpbp9Rqc9rqcgcjQTJ06Eq6urLEZ9ly5dwtChQxEeHo7NmzfzMHiSBbvfx+eIJ3UTOZpt27bhvffew8mTJx12RWRmZiYmTZqEP/7xj3jttdec9tQZcj7CbmB3pJO6iRyNJEno378/EhIS8NRTT4mO08S2bdvw4osv4vPPP8eTTz4pOg5RiwgrPiK6N0cd9S1ZsgQffvghNm/ejIEDB4qOQ9RijvOniYhMTJgwAW5ubti0aZPoKAAAg8GAN954A8uWLcP333/P0iPZ4oiPyIFt374d7777Lk6dOiV01FddXY3f/OY3KC8vx8aNG/HQQw8Jy0JkKY74iBzY+PHj4eHhgY0bNwrLcPXqVcTFxcHb2xu7d+9m6ZHssfiIHNidp7mI2Nd3/vx5DBo0COPHj8eaNWvg7u5u9wxE1sbiI3Jw8fHx8PT0tPuob9++fRg+fDjmz5+PuXPncrsCOQ3O8RHJQEpKCt555x1kZWXZZa5vzZo1ePvtt5GUlIS4uDibfx6RPXHERyQD48aNg6enJzZs2GDTz5EkCXPnzsX8+fORlpbG0iOnxBEfkUykpKTg7bffxunTp20y6qurq8NLL72EnJwcbNu2DQ8//LDVP4PIEXDERyQT48aNQ+vWrZGcnGz1Z//8888YM2YMqqqqkJaWxtIjp8biI5IJW63w/PHHHzFkyBBERUVh/fr1aNWqldWeTeSIWHxEMjJ27Fh4e3tj/fr1VnnesWPHMHToULzyyiv46KOP4Opq3r2ZRHLCOT4imdm1axfefPNNnD592qKi2rhxI2bOnIl//etfmDBhghUTEjk2jviIZGbMmDHw9vY2e65PkiR89NFHePXVV7Fr1y6WHikOR3xEMrR792688cYbOHPmDH6u0SM5swg5JRWo0Onho1EjvKMPnunX9IovvV6P119/HWlpaUhJSUHXrl0F/QqIxGHxEcmQJEnoP+ZpdBz+PLTVt8uttplLnePC/DArNgSRAW1RVVWFqVOnQqfTITk5GW3atBGUnkgsFh+RDK09WoAPtp1Dnd4I3GNPn0oFaNSumD3UH/+c8wL69u2L5cuXw83NzY5piRwLi49IZtYeLcCClGzU1D/4lgZJX4thra/h67kzeeYmKR4XtxDJSFZhORak5LSo9ABApfZApjEIZ366aaNkRPLB4iOSkaVpWuj0BrO+Vqc3YFma1sqJiOSHxUckE9erapGeVwpzJyckCdifW4qyqlrrBiOSGRYfkUwkZxZZ/AwVgOQTlj+HSM5YfEQykVNSYbJlwRw6vRE5xZVWSkQkTyw+Ipmo0Omt9Jx6qzyHSK5YfEQy4aNRW+k53MNHysbiI5KJ8I4+8FBb9kdWo3ZBuL+3lRIRyROLj0gmpvTrYvEzJABT+lr+HCI5Y/ERyYSvlwdiQ/1g7sErKhUwPMyvycHVRErD4iOSkdlxIdCozbuDT6N2xay4ECsnIpIfFh+RjEQGtEVCfDg83Vr2R9fTzQUJ8eHo3aWtjZIRyYd1lokRkd1MGxQEAFiQkgOd3nDPk1wabmdIiA9v/DoipePtDEQydbqoHMvStNifWwoVbm9Ob9BwH9/wMD/MigvhSI/oDiw+Ipkrq6pF8oki5BRXokJXDx+NG8L9vTGlb9Mb2ImIxUdERArDxS1ERKQoLD4iIlIUFh8RESkKi4+IiBSFxUdERIrC4iMiIkVh8RERkaKw+IiISFFYfEREpCgsPiIiUhQWHxERKQqLj4iIFIXFR0REisLiIyIiRfl/p6K07E+MfkcAAAAASUVORK5CYII=\\\\n\",\\n      \"text/plain\": [\\n       \"<Figure size 432x288 with 1 Axes>\"\\n      ]\\n     },\\n     \"metadata\": {},\\n     \"output_type\": \"display_data\"\\n    }\\n   ],\\n   \"source\": [\\n    \"nx.draw(g)\"\\n   ]\\n  },\\n  {\\n   \"cell_type\": \"code\",\\n   \"execution_count\": 45,\\n   \"metadata\": {\\n    \"slideshow\": {\\n     \"slide_type\": \"slide\"\\n    }\\n   },\\n   \"outputs\": [],\\n   \"source\": [\\n    \"def navigator(start, destination, connection_graph):\\\\n\",\\n    \"    pathes = [[start]]\\\\n\",\\n    \"    seen = set()\\\\n\",\\n    \"    \\\\n\",\\n    \"    while(pathes):\\\\n\",\\n    \"        path = pathes.pop()\\\\n\",\\n    \"        frontier = path[-1]\\\\n\",\\n    \"        # print(\\\\\"I am standing at : {}\\\\\".format(frontier))\\\\n\",\\n    \"        \\\\n\",\\n    \"        if frontier in seen: continue\\\\n\",\\n    \"            \\\\n\",\\n    \"        successors = connection_graph[frontier]\\\\n\",\\n    \"\\\\n\",\\n    \"        for s in successors:\\\\n\",\\n    \"            # print(\\\\\"\\\\\\\\t ------ I am looking forward: {}\\\\\".format(s))\\\\n\",\\n    \"            if s == destination: \\\\n\",\\n    \"                path.append(s)\\\\n\",\\n    \"                return path\\\\n\",\\n    \"            else:\\\\n\",\\n    \"                pathes.append(path+[s])\\\\n\",\\n    \"        # print(pathes)\\\\n\",\\n    \"        pathes = sorted(pathes, key=len)\\\\n\",\\n    \"        # print(pathes)\\\\n\",\\n    \"        seen.add(frontier)\"\\n   ]\\n  },\\n  {\\n   \"cell_type\": \"code\",\\n   \"execution_count\": 46,\\n   \"metadata\": {},\\n   \"outputs\": [],\\n   \"source\": [\\n    \"def draw_route(routes):\\\\n\",\\n    \"    print(\\'->\\'.join(routes))\"\\n   ]\\n  },\\n  {\\n   \"cell_type\": \"code\",\\n   \"execution_count\": 47,\\n   \"metadata\": {},\\n   \"outputs\": [\\n    {\\n     \"name\": \"stdout\",\\n     \"output_type\": \"stream\",\\n     \"text\": [\\n      \"CHANGCHUN->BEIJING->SHENZHEN\\\\n\"\\n     ]\\n    }\\n   ],\\n   \"source\": [\\n    \"draw_route(navigator(CHANGCHUN, SHENZHEN, connection))\"\\n   ]\\n  },\\n  {\\n   \"cell_type\": \"code\",\\n   \"execution_count\": 64,\\n   \"metadata\": {},\\n   \"outputs\": [],\\n   \"source\": [\\n    \"def breadthFS(start, destination, connection):\\\\n\",\\n    \"    pathes = [start]\\\\n\",\\n    \"    seen = set()\\\\n\",\\n    \"    \\\\n\",\\n    \"    while pathes:\\\\n\",\\n    \"        frontier = pathes.pop(0)\\\\n\",\\n    \"        \\\\n\",\\n    \"        if frontier in seen: continue\\\\n\",\\n    \"            \\\\n\",\\n    \"        successors = connection[frontier]\\\\n\",\\n    \"        print(\\'Standing at {} Looking forward {}\\'.format(frontier, successors))\\\\n\",\\n    \"        pathes = pathes + successors\\\\n\",\\n    \"        \\\\n\",\\n    \"        seen.add(frontier)\\\\n\",\\n    \"                \"\\n   ]\\n  },\\n  {\\n   \"cell_type\": \"code\",\\n   \"execution_count\": 75,\\n   \"metadata\": {},\\n   \"outputs\": [],\\n   \"source\": [\\n    \"connection_2 = {\\\\n\",\\n    \"    0: [1, 5],\\\\n\",\\n    \"    1: [0, 2],\\\\n\",\\n    \"    2: [1, 3],\\\\n\",\\n    \"    3: [2, 4],\\\\n\",\\n    \"    4: [3],\\\\n\",\\n    \"    5: [0, 6],\\\\n\",\\n    \"    6: [5, 7],\\\\n\",\\n    \"    7: [6]\\\\n\",\\n    \"}\"\\n   ]\\n  },\\n  {\\n   \"cell_type\": \"code\",\\n   \"execution_count\": 76,\\n   \"metadata\": {},\\n   \"outputs\": [\\n    {\\n     \"data\": {\\n      \"image/png\": \"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\\\\n\",\\n      \"text/plain\": [\\n       \"<Figure size 432x288 with 1 Axes>\"\\n      ]\\n     },\\n     \"metadata\": {},\\n     \"output_type\": \"display_data\"\\n    }\\n   ],\\n   \"source\": [\\n    \"nx.draw(nx.Graph(connection_2))\"\\n   ]\\n  },\\n  {\\n   \"cell_type\": \"code\",\\n   \"execution_count\": 77,\\n   \"metadata\": {},\\n   \"outputs\": [\\n    {\\n     \"name\": \"stdout\",\\n     \"output_type\": \"stream\",\\n     \"text\": [\\n      \"Standing at 0 Looking forward [1, 5]\\\\n\",\\n      \"Standing at 1 Looking forward [0, 2]\\\\n\",\\n      \"Standing at 5 Looking forward [0, 6]\\\\n\",\\n      \"Standing at 2 Looking forward [1, 3]\\\\n\",\\n      \"Standing at 6 Looking forward [5, 7]\\\\n\",\\n      \"Standing at 3 Looking forward [2, 4]\\\\n\",\\n      \"Standing at 7 Looking forward [6]\\\\n\",\\n      \"Standing at 4 Looking forward [3]\\\\n\"\\n     ]\\n    }\\n   ],\\n   \"source\": [\\n    \"breadthFS(0, 7, connection_2)\"\\n   ]\\n  },\\n  {\\n   \"cell_type\": \"markdown\",\\n   \"metadata\": {},\\n   \"source\": [\\n    \"# Sentence Generation\"\\n   ]\\n  },\\n  {\\n   \"cell_type\": \"code\",\\n   \"execution_count\": null,\\n   \"metadata\": {},\\n   \"outputs\": [],\\n   \"source\": [\\n    \"grammer = \"\\n   ]\\n  }\\n ],\\n \"metadata\": {\\n  \"kernelspec\": {\\n   \"display_name\": \"Python 3\",\\n   \"language\": \"python\",\\n   \"name\": \"python3\"\\n  },\\n  \"language_info\": {\\n   \"codemirror_mode\": {\\n    \"name\": \"ipython\",\\n    \"version\": 3\\n   },\\n   \"file_extension\": \".py\",\\n   \"mimetype\": \"text/x-python\",\\n   \"name\": \"python\",\\n   \"nbconvert_exporter\": \"python\",\\n   \"pygments_lexer\": \"ipython3\",\\n   \"version\": \"3.7.3\"\\n  }\\n },\\n \"nbformat\": 4,\\n \"nbformat_minor\": 4\\n}\\n'"
      ]
     },
     "execution_count": 24,
     "metadata": {},
     "output_type": "execute_result"
    }
   ],
   "source": [
    "f.read()"
   ]
  },
  {
   "cell_type": "code",
   "execution_count": 6,
   "metadata": {},
   "outputs": [],
   "source": [
    "import time"
   ]
  },
  {
   "cell_type": "code",
   "execution_count": 7,
   "metadata": {},
   "outputs": [],
   "source": [
    "def func(i):\n",
    "    time.sleep(0.2)\n",
    "    return i"
   ]
  },
  {
   "cell_type": "code",
   "execution_count": 8,
   "metadata": {},
   "outputs": [],
   "source": [
    "def loop(n):\n",
    "    results = []\n",
    "    for i in range(n):\n",
    "        r = func(i)\n",
    "        results.append(i)\n",
    "    return results"
   ]
  },
  {
   "cell_type": "code",
   "execution_count": 9,
   "metadata": {},
   "outputs": [
    {
     "data": {
      "text/plain": [
       "[0, 1, 2, 3, 4, 5, 6, 7, 8, 9]"
      ]
     },
     "execution_count": 9,
     "metadata": {},
     "output_type": "execute_result"
    }
   ],
   "source": [
    "loop(10)"
   ]
  },
  {
   "cell_type": "code",
   "execution_count": 20,
   "metadata": {},
   "outputs": [],
   "source": [
    "def gene_func():\n",
    "    yield 1\n",
    "    yield 2\n",
    "    yield 3"
   ]
  },
  {
   "cell_type": "code",
   "execution_count": 21,
   "metadata": {},
   "outputs": [],
   "source": [
    "g = gene_func()"
   ]
  },
  {
   "cell_type": "code",
   "execution_count": 22,
   "metadata": {},
   "outputs": [
    {
     "name": "stdout",
     "output_type": "stream",
     "text": [
      "1\n",
      "2\n",
      "3\n"
     ]
    }
   ],
   "source": [
    "for i in g:\n",
    "    print(i)"
   ]
  },
  {
   "cell_type": "code",
   "execution_count": 23,
   "metadata": {},
   "outputs": [
    {
     "ename": "StopIteration",
     "evalue": "",
     "output_type": "error",
     "traceback": [
      "\u001b[0;31m---------------------------------------------------------------------------\u001b[0m",
      "\u001b[0;31mStopIteration\u001b[0m                             Traceback (most recent call last)",
      "\u001b[0;32m<ipython-input-23-e734f8aca5ac>\u001b[0m in \u001b[0;36m<module>\u001b[0;34m\u001b[0m\n\u001b[0;32m----> 1\u001b[0;31m \u001b[0mnext\u001b[0m\u001b[0;34m(\u001b[0m\u001b[0mg\u001b[0m\u001b[0;34m)\u001b[0m\u001b[0;34m\u001b[0m\u001b[0;34m\u001b[0m\u001b[0m\n\u001b[0m",
      "\u001b[0;31mStopIteration\u001b[0m: "
     ]
    }
   ],
   "source": [
    "next(g)"
   ]
  },
  {
   "cell_type": "code",
   "execution_count": 13,
   "metadata": {},
   "outputs": [
    {
     "data": {
      "text/plain": [
       "2"
      ]
     },
     "execution_count": 13,
     "metadata": {},
     "output_type": "execute_result"
    }
   ],
   "source": [
    "next(g)"
   ]
  },
  {
   "cell_type": "code",
   "execution_count": 14,
   "metadata": {},
   "outputs": [
    {
     "data": {
      "text/plain": [
       "3"
      ]
     },
     "execution_count": 14,
     "metadata": {},
     "output_type": "execute_result"
    }
   ],
   "source": [
    "next(g)"
   ]
  },
  {
   "cell_type": "code",
   "execution_count": 15,
   "metadata": {},
   "outputs": [
    {
     "ename": "StopIteration",
     "evalue": "",
     "output_type": "error",
     "traceback": [
      "\u001b[0;31m---------------------------------------------------------------------------\u001b[0m",
      "\u001b[0;31mStopIteration\u001b[0m                             Traceback (most recent call last)",
      "\u001b[0;32m<ipython-input-15-e734f8aca5ac>\u001b[0m in \u001b[0;36m<module>\u001b[0;34m\u001b[0m\n\u001b[0;32m----> 1\u001b[0;31m \u001b[0mnext\u001b[0m\u001b[0;34m(\u001b[0m\u001b[0mg\u001b[0m\u001b[0;34m)\u001b[0m\u001b[0;34m\u001b[0m\u001b[0;34m\u001b[0m\u001b[0m\n\u001b[0m",
      "\u001b[0;31mStopIteration\u001b[0m: "
     ]
    }
   ],
   "source": [
    "next(g)"
   ]
  },
  {
   "cell_type": "code",
   "execution_count": null,
   "metadata": {},
   "outputs": [],
   "source": []
  }
 ],
 "metadata": {
  "kernelspec": {
   "display_name": "Python 3",
   "language": "python",
   "name": "python3"
  },
  "language_info": {
   "codemirror_mode": {
    "name": "ipython",
    "version": 3
   },
   "file_extension": ".py",
   "mimetype": "text/x-python",
   "name": "python",
   "nbconvert_exporter": "python",
   "pygments_lexer": "ipython3",
   "version": "3.7.3"
  }
 },
 "nbformat": 4,
 "nbformat_minor": 4
}
